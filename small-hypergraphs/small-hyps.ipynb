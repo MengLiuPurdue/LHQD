{
 "cells": [
  {
   "cell_type": "code",
   "execution_count": 17,
   "metadata": {},
   "outputs": [
    {
     "name": "stdout",
     "output_type": "stream",
     "text": [
      "size(H) = (15, 100)\n"
     ]
    },
    {
     "data": {
      "text/plain": [
       "(15, 100)"
      ]
     },
     "execution_count": 17,
     "metadata": {},
     "output_type": "execute_result"
    }
   ],
   "source": [
    "using MAT\n",
    "hypergraph = \"Cities.mat\"\n",
    "hypergraph = \"Amazon_Amazon_Fashion.mat\"\n",
    "hypergraph = \"Zoo.mat\"\n",
    "D = matread(hypergraph)\n",
    "H=  D[\"H\"]\n",
    "@show size(H)"
   ]
  },
  {
   "cell_type": "code",
   "execution_count": 18,
   "metadata": {},
   "outputs": [],
   "source": [
    "H =H[:,1:20]\n",
    "NodeNames = D[\"NodeNames\"][1:20]\n",
    "NodeLabels = D[\"NodeLabels\"][1:20]\n",
    "matwrite(\"TinyZoo.mat\", Dict(\"H\"=>H, \"NodeNames\"=>NodeNames, \"NodeLabels\"=>NodeLabels))"
   ]
  },
  {
   "cell_type": "code",
   "execution_count": 16,
   "metadata": {},
   "outputs": [
    {
     "data": {
      "text/plain": [
       "20-element Array{Any,1}:\n",
       " \"aardvark\"\n",
       " \"antelope\"\n",
       " \"bass\"    \n",
       " \"bear\"    \n",
       " \"boar\"    \n",
       " \"buffalo\" \n",
       " \"calf\"    \n",
       " \"carp\"    \n",
       " \"catfish\" \n",
       " \"cavy\"    \n",
       " \"cheetah\" \n",
       " \"chicken\" \n",
       " \"chub\"    \n",
       " \"clam\"    \n",
       " \"crab\"    \n",
       " \"crayfish\"\n",
       " \"crow\"    \n",
       " \"deer\"    \n",
       " \"dogfish\" \n",
       " \"dolphin\" "
      ]
     },
     "execution_count": 16,
     "metadata": {},
     "output_type": "execute_result"
    }
   ],
   "source": [
    "NodeNames"
   ]
  },
  {
   "cell_type": "code",
   "execution_count": 19,
   "metadata": {},
   "outputs": [
    {
     "name": "stdout",
     "output_type": "stream",
     "text": [
      "size(lcc) = (20, 20)\n"
     ]
    },
    {
     "data": {
      "text/plain": [
       "(20, 20)"
      ]
     },
     "execution_count": 19,
     "metadata": {},
     "output_type": "execute_result"
    }
   ],
   "source": [
    "# One connected component!\n",
    "A = H'*H\n",
    "using MatrixNetworks\n",
    "lcc, d = largest_component(A)\n",
    "@show size(lcc)"
   ]
  },
  {
   "cell_type": "code",
   "execution_count": null,
   "metadata": {},
   "outputs": [],
   "source": []
  },
  {
   "cell_type": "code",
   "execution_count": null,
   "metadata": {},
   "outputs": [],
   "source": []
  },
  {
   "cell_type": "code",
   "execution_count": null,
   "metadata": {},
   "outputs": [],
   "source": []
  },
  {
   "cell_type": "code",
   "execution_count": null,
   "metadata": {},
   "outputs": [],
   "source": []
  }
 ],
 "metadata": {
  "kernelspec": {
   "display_name": "Julia 1.3.1",
   "language": "julia",
   "name": "julia-1.3"
  },
  "language_info": {
   "file_extension": ".jl",
   "mimetype": "application/julia",
   "name": "julia",
   "version": "1.3.1"
  }
 },
 "nbformat": 4,
 "nbformat_minor": 4
}
